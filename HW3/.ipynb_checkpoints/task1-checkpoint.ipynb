{
 "cells": [
  {
   "cell_type": "markdown",
   "metadata": {},
   "source": [
    "## Step 1: Implementation of decoding algorithms"
   ]
  },
  {
   "cell_type": "code",
   "execution_count": 1,
   "metadata": {},
   "outputs": [],
   "source": [
    "import torch\n",
    "from transformers import AutoTokenizer, AutoModelForCausalLM"
   ]
  },
  {
   "cell_type": "code",
   "execution_count": 2,
   "metadata": {},
   "outputs": [
    {
     "data": {
      "text/plain": [
       "<torch._C.Generator at 0x27782a830f0>"
      ]
     },
     "execution_count": 2,
     "metadata": {},
     "output_type": "execute_result"
    }
   ],
   "source": [
    "#seeding\n",
    "torch.manual_seed(26)"
   ]
  },
  {
   "cell_type": "code",
   "execution_count": 3,
   "metadata": {},
   "outputs": [],
   "source": [
    "tokenizer = AutoTokenizer.from_pretrained(\"gpt2\")\n",
    "model = AutoModelForCausalLM.from_pretrained(\"gpt2\", return_dict_in_generate=True)"
   ]
  },
  {
   "cell_type": "code",
   "execution_count": 4,
   "metadata": {},
   "outputs": [
    {
     "name": "stdout",
     "output_type": "stream",
     "text": [
      "Shape of input ids: torch.Size([1, 6])\n"
     ]
    }
   ],
   "source": [
    "prompt = \"Today I believe we can finally\"\n",
    "input_ids = tokenizer(prompt, return_tensors=\"pt\").input_ids\n",
    "print(\"Shape of input ids: {}\".format(input_ids.shape))"
   ]
  },
  {
   "cell_type": "markdown",
   "metadata": {},
   "source": [
    "#### You must also calculate the likelihood of each output sequence by the log sum of every token logit. "
   ]
  },
  {
   "cell_type": "code",
   "execution_count": 5,
   "metadata": {},
   "outputs": [],
   "source": [
    "def compute_log_probability(outputs):\n",
    "    generated_sequences = outputs.sequences[:, input_ids.shape[-1]:]\n",
    "    probabs = torch.stack(outputs.scores, dim=1).softmax(-1)\n",
    "    generated_probabilities = torch.gather(probabs, 2, generated_sequences[:, :, None]).squeeze(-1)\n",
    "    prob = generated_probabilities.prod(-1)\n",
    "    log_prob = torch.log(prob)\n",
    "    return generated_sequences, log_prob.item(), prob.item()"
   ]
  },
  {
   "cell_type": "markdown",
   "metadata": {},
   "source": [
    "### Greedy Decoding"
   ]
  },
  {
   "cell_type": "markdown",
   "metadata": {},
   "source": [
    "#### Just take the generated sequences"
   ]
  },
  {
   "cell_type": "code",
   "execution_count": 6,
   "metadata": {},
   "outputs": [
    {
     "name": "stderr",
     "output_type": "stream",
     "text": [
      "The attention mask and the pad token id were not set. As a consequence, you may observe unexpected behavior. Please pass your input's `attention_mask` to obtain reliable results.\n",
      "Setting `pad_token_id` to `eos_token_id`:50256 for open-end generation.\n"
     ]
    },
    {
     "name": "stdout",
     "output_type": "stream",
     "text": [
      "log-likelihood of each output sequence with greedy search: -33.093475341796875\n",
      "likelihood of each output sequence with greedy search: 4.243123457843903e-15\n",
      "Decoded Output:  get to the point where we can make a difference in the lives of the people of the United States of America.\n",
      "\n"
     ]
    }
   ],
   "source": [
    "outputs = model.generate(input_ids, max_length=30, output_scores=True, return_dict_in_generate=True)\n",
    "gen_sequences = outputs.sequences[:, input_ids.shape[-1]:]\n",
    "gen_sequences, log_prob, prob = compute_log_probability(outputs)\n",
    "print(\"log-likelihood of each output sequence with greedy search: {}\".format(log_prob))\n",
    "print(\"likelihood of each output sequence with greedy search: {}\".format(prob))\n",
    "print(\"Decoded Output: {}\".format(tokenizer.batch_decode(gen_sequences, skip_special_tokens=True)[0]))"
   ]
  },
  {
   "cell_type": "markdown",
   "metadata": {},
   "source": [
    "### Beam Search"
   ]
  },
  {
   "cell_type": "code",
   "execution_count": 7,
   "metadata": {},
   "outputs": [
    {
     "name": "stderr",
     "output_type": "stream",
     "text": [
      "The attention mask and the pad token id were not set. As a consequence, you may observe unexpected behavior. Please pass your input's `attention_mask` to obtain reliable results.\n",
      "Setting `pad_token_id` to `eos_token_id`:50256 for open-end generation.\n"
     ]
    },
    {
     "name": "stdout",
     "output_type": "stream",
     "text": [
      "log-likelihood of each output sequence with beam search: -82.76826477050781\n",
      "likelihood of each output sequence with greedy search: 1.1329176570146491e-36\n",
      "Decoded Output:  get to the point where we can make a difference in the lives of all of our children.\n",
      "\n",
      "I believe that\n"
     ]
    }
   ],
   "source": [
    "outputs = model.generate(input_ids, max_length=30, num_beams=3, early_stopping=True, output_scores=True, return_dict_in_generate=True)\n",
    "gen_sequences, log_prob, prob = compute_log_probability(outputs)\n",
    "print(\"log-likelihood of each output sequence with beam search: {}\".format(log_prob))\n",
    "print(\"likelihood of each output sequence with greedy search: {}\".format(prob))\n",
    "print(\"Decoded Output: {}\".format(tokenizer.batch_decode(gen_sequences, skip_special_tokens=True)[0]))"
   ]
  },
  {
   "cell_type": "markdown",
   "metadata": {},
   "source": [
    "### Top-K Sampling"
   ]
  },
  {
   "cell_type": "code",
   "execution_count": 8,
   "metadata": {},
   "outputs": [
    {
     "name": "stderr",
     "output_type": "stream",
     "text": [
      "The attention mask and the pad token id were not set. As a consequence, you may observe unexpected behavior. Please pass your input's `attention_mask` to obtain reliable results.\n",
      "Setting `pad_token_id` to `eos_token_id`:50256 for open-end generation.\n"
     ]
    },
    {
     "name": "stdout",
     "output_type": "stream",
     "text": [
      "log-likelihood of each output sequence with top-k sampling: -40.48450469970703\n",
      "likelihood of each output sequence with greedy search: 2.6169932833501007e-18\n",
      "Decoded Output:  make good on our promise, and that we will continue to build on our progress, as the rest of the world does\n"
     ]
    }
   ],
   "source": [
    "outputs = model.generate(input_ids, do_sample=True, max_length=30, top_k=20, output_scores=True, return_dict_in_generate=True)\n",
    "gen_sequences, log_prob, prob = compute_log_probability(outputs)\n",
    "print(\"log-likelihood of each output sequence with top-k sampling: {}\".format(log_prob))\n",
    "print(\"likelihood of each output sequence with greedy search: {}\".format(prob))\n",
    "print(\"Decoded Output: {}\".format(tokenizer.batch_decode(gen_sequences, skip_special_tokens=True)[0]))"
   ]
  },
  {
   "cell_type": "markdown",
   "metadata": {},
   "source": [
    "### Top-p Sampling Nucleas"
   ]
  },
  {
   "cell_type": "code",
   "execution_count": 9,
   "metadata": {},
   "outputs": [
    {
     "name": "stderr",
     "output_type": "stream",
     "text": [
      "The attention mask and the pad token id were not set. As a consequence, you may observe unexpected behavior. Please pass your input's `attention_mask` to obtain reliable results.\n",
      "Setting `pad_token_id` to `eos_token_id`:50256 for open-end generation.\n"
     ]
    },
    {
     "name": "stdout",
     "output_type": "stream",
     "text": [
      "log-likelihood of each output sequence with nucleas sampling: -48.56922912597656\n",
      "likelihood of each output sequence with greedy search: 8.065893486863909e-22\n",
      "Decoded Output:  bring the Bush administration back from the brink of chaos,\" former Bush White House chief of staff Cheryl Mills said. \"And\n"
     ]
    }
   ],
   "source": [
    "outputs = model.generate(input_ids, do_sample=True, max_length=30, top_p=0.7, top_k=0, output_scores=True, return_dict_in_generate=True)\n",
    "gen_sequences, log_prob, prob = compute_log_probability(outputs)\n",
    "print(\"log-likelihood of each output sequence with nucleas sampling: {}\".format(log_prob))\n",
    "print(\"likelihood of each output sequence with greedy search: {}\".format(prob))\n",
    "print(\"Decoded Output: {}\".format(tokenizer.batch_decode(gen_sequences, skip_special_tokens=True)[0]))"
   ]
  }
 ],
 "metadata": {
  "kernelspec": {
   "display_name": "Python 3",
   "language": "python",
   "name": "python3"
  },
  "language_info": {
   "codemirror_mode": {
    "name": "ipython",
    "version": 3
   },
   "file_extension": ".py",
   "mimetype": "text/x-python",
   "name": "python",
   "nbconvert_exporter": "python",
   "pygments_lexer": "ipython3",
   "version": "3.8.3"
  }
 },
 "nbformat": 4,
 "nbformat_minor": 4
}
